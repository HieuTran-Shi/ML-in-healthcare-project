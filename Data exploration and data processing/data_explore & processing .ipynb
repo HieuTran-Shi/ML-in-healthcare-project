{
 "cells": [
  {
   "cell_type": "code",
   "execution_count": 1,
   "id": "f892efae",
   "metadata": {},
   "outputs": [],
   "source": [
    "import os\n",
    "import pandas as pd\n",
    "import platform\n",
    "import seaborn as sns\n",
    "sns.set_theme(style=\"whitegrid\")\n",
    "import matplotlib.pyplot as plt"
   ]
  },
  {
   "cell_type": "code",
   "execution_count": 2,
   "id": "a1042d86",
   "metadata": {},
   "outputs": [],
   "source": [
    "slash = \"/\" if \"Linux\" in platform.platform() else \"\\\\\""
   ]
  },
  {
   "cell_type": "code",
   "execution_count": 3,
   "id": "9f79aaad",
   "metadata": {},
   "outputs": [],
   "source": [
    "for i in range(1):\n",
    "    os.chdir(\"..\")"
   ]
  },
  {
   "cell_type": "code",
   "execution_count": 4,
   "id": "f143ef51",
   "metadata": {
    "scrolled": true
   },
   "outputs": [
    {
     "name": "stdout",
     "output_type": "stream",
     "text": [
      "['datapackage.json', 'drug200.csv']\n"
     ]
    }
   ],
   "source": [
    "data_ori = os.getcwd() + f\"{slash}Data set\"\n",
    "print(os.listdir(data_ori))"
   ]
  },
  {
   "cell_type": "code",
   "execution_count": 5,
   "id": "4276af2a",
   "metadata": {},
   "outputs": [
    {
     "name": "stdout",
     "output_type": "stream",
     "text": [
      "H:\\Hoc may y te\\GitClone\\ML-in-healthcare-project\\Data set\\drug200.csv\n"
     ]
    }
   ],
   "source": [
    "data_dir = data_ori + f\"{slash}drug200.csv\"\n",
    "print(data_dir)"
   ]
  },
  {
   "cell_type": "code",
   "execution_count": null,
   "id": "38441a9f",
   "metadata": {},
   "outputs": [],
   "source": [
    "df_drug = pd.read_csv(data_dir)\n",
    "df_drug"
   ]
  },
  {
   "cell_type": "code",
   "execution_count": null,
   "id": "4eea8816",
   "metadata": {},
   "outputs": [],
   "source": [
    "#check missing value\n",
    "df_drug.info()"
   ]
  },
  {
   "cell_type": "markdown",
   "id": "5cd716b7",
   "metadata": {},
   "source": [
    "# variables "
   ]
  },
  {
   "cell_type": "code",
   "execution_count": null,
   "id": "4db80bcb",
   "metadata": {},
   "outputs": [],
   "source": [
    "name_cols = ['Drug', 'BP', 'Cholesterol']\n",
    "for name_col in name_cols:\n",
    "    print(\"\\n\")\n",
    "    plt.figure(dpi = 240)\n",
    "    print(df_drug[name_col].value_counts())\n",
    "    sns.countplot(x=df_drug[name_col])\n",
    "    plt.title(str(name_col)+ \" Counts\")\n",
    "    plt.show()"
   ]
  },
  {
   "cell_type": "markdown",
   "id": "ea12d734",
   "metadata": {},
   "source": [
    "# Basic Analysis"
   ]
  },
  {
   "cell_type": "code",
   "execution_count": null,
   "id": "4e8c4f79",
   "metadata": {
    "scrolled": false
   },
   "outputs": [],
   "source": [
    "name_cols = ['Sex', 'BP', 'Cholesterol']\n",
    "for name_col in name_cols:\n",
    "    print(\"\\n\")\n",
    "    plt.figure(dpi = 240, figsize = (4,4))\n",
    "    df_Dr = df_drug.groupby(['Drug',name_col]).size().reset_index(name='Count')\n",
    "    print(df_Dr)\n",
    "    sns.barplot(x=\"Drug\", y = \"Count\", hue=name_col, data= df_Dr)\n",
    "    plt.title(str(name_col)+\"--Drugs\")\n",
    "    plt.show()"
   ]
  },
  {
   "cell_type": "markdown",
   "id": "f5f99140",
   "metadata": {},
   "source": [
    "### Na_to_K--Drug"
   ]
  },
  {
   "cell_type": "code",
   "execution_count": null,
   "id": "4ac7d6ec",
   "metadata": {},
   "outputs": [],
   "source": [
    "# Swarmplot: Draw a categorical scatterplot with points adjusted to be non-overlapping\n",
    "fig, axes = plt.subplots(1, 2, figsize=(8,6), dpi=200)\n",
    "sns.swarmplot(ax=axes[0], x = \"Drug\", y = 'Age', data = df_drug, color = \"green\")\n",
    "# plt.legend(df_drug['Drug'].value_counts().index)\n",
    "sns.swarmplot(ax=axes[1], x = \"Drug\", y = \"Na_to_K\", data = df_drug)\n",
    "# plt.legend(df_drug['Drug'].value_counts().index)\n"
   ]
  },
  {
   "cell_type": "code",
   "execution_count": null,
   "id": "525d7e96",
   "metadata": {},
   "outputs": [],
   "source": [
    "df_drug.corr()\n",
    "# Age and Na_to_K levels is not in relationship"
   ]
  },
  {
   "cell_type": "code",
   "execution_count": null,
   "id": "b2ccfbb3",
   "metadata": {},
   "outputs": [],
   "source": []
  },
  {
   "cell_type": "markdown",
   "id": "373dbecc",
   "metadata": {},
   "source": [
    "# Data preparation"
   ]
  },
  {
   "cell_type": "markdown",
   "id": "084da436",
   "metadata": {},
   "source": [
    "## Spitting sets"
   ]
  },
  {
   "cell_type": "code",
   "execution_count": null,
   "id": "ef739b68",
   "metadata": {},
   "outputs": [],
   "source": [
    "X = df_drug.drop([\"Drug\"], axis=1)\n",
    "y = df_drug[\"Drug\"]"
   ]
  },
  {
   "cell_type": "code",
   "execution_count": null,
   "id": "d1db3381",
   "metadata": {},
   "outputs": [],
   "source": [
    "from sklearn.model_selection import train_test_split\n",
    "X_train, X_test, y_train, y_test = train_test_split(X, y, test_size = 0.2, random_state = 0)"
   ]
  },
  {
   "cell_type": "markdown",
   "id": "f5acf4df",
   "metadata": {},
   "source": [
    "## Handling categorical variables"
   ]
  },
  {
   "cell_type": "code",
   "execution_count": null,
   "id": "1bdb48d3",
   "metadata": {},
   "outputs": [],
   "source": [
    "# from category_encoders import TargetEncoder\n"
   ]
  },
  {
   "cell_type": "markdown",
   "id": "15b4c61d",
   "metadata": {},
   "source": [
    "## To obtain balance data"
   ]
  },
  {
   "cell_type": "code",
   "execution_count": null,
   "id": "5600d3ec",
   "metadata": {},
   "outputs": [],
   "source": [
    "from imblearn import under_sampling, over_sampling\n",
    "from imblearn.over_sampling import SMOTE\n",
    "X_train, y_train = SMOTE().fit_resample(X_train, y_train)"
   ]
  },
  {
   "cell_type": "code",
   "execution_count": null,
   "id": "6a118526",
   "metadata": {},
   "outputs": [],
   "source": []
  }
 ],
 "metadata": {
  "kernelspec": {
   "display_name": "Python 3 (ipykernel)",
   "language": "python",
   "name": "python3"
  },
  "language_info": {
   "codemirror_mode": {
    "name": "ipython",
    "version": 3
   },
   "file_extension": ".py",
   "mimetype": "text/x-python",
   "name": "python",
   "nbconvert_exporter": "python",
   "pygments_lexer": "ipython3",
   "version": "3.10.6"
  }
 },
 "nbformat": 4,
 "nbformat_minor": 5
}
